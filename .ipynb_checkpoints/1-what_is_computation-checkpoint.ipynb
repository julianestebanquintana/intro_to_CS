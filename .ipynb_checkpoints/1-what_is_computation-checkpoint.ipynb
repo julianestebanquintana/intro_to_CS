{
 "cells": [
  {
   "cell_type": "code",
   "execution_count": 1,
   "id": "3d057bde",
   "metadata": {},
   "outputs": [
    {
     "data": {
      "text/plain": [
       "5"
      ]
     },
     "execution_count": 1,
     "metadata": {},
     "output_type": "execute_result"
    }
   ],
   "source": [
    "3+2"
   ]
  },
  {
   "cell_type": "code",
   "execution_count": 2,
   "id": "e1d3342f",
   "metadata": {},
   "outputs": [],
   "source": [
    "pi = 3.14159265"
   ]
  },
  {
   "cell_type": "code",
   "execution_count": 3,
   "id": "8b2084e4",
   "metadata": {},
   "outputs": [],
   "source": [
    "radius = 2.2"
   ]
  },
  {
   "cell_type": "code",
   "execution_count": 4,
   "id": "4558ca51",
   "metadata": {},
   "outputs": [],
   "source": [
    "area = pi*(radius**2)"
   ]
  },
  {
   "cell_type": "code",
   "execution_count": 5,
   "id": "94dad751",
   "metadata": {},
   "outputs": [
    {
     "name": "stdout",
     "output_type": "stream",
     "text": [
      "15.205308426000004\n"
     ]
    }
   ],
   "source": [
    "print(area)"
   ]
  },
  {
   "cell_type": "code",
   "execution_count": 6,
   "id": "9f97470d",
   "metadata": {},
   "outputs": [],
   "source": [
    "radius = 10"
   ]
  },
  {
   "cell_type": "code",
   "execution_count": 7,
   "id": "165d67bc",
   "metadata": {},
   "outputs": [
    {
     "data": {
      "text/plain": [
       "15.205308426000004"
      ]
     },
     "execution_count": 7,
     "metadata": {},
     "output_type": "execute_result"
    }
   ],
   "source": [
    "area"
   ]
  },
  {
   "cell_type": "code",
   "execution_count": null,
   "id": "2b78f23e",
   "metadata": {},
   "outputs": [],
   "source": []
  }
 ],
 "metadata": {
  "kernelspec": {
   "display_name": "Python 3 (ipykernel)",
   "language": "python",
   "name": "python3"
  },
  "language_info": {
   "codemirror_mode": {
    "name": "ipython",
    "version": 3
   },
   "file_extension": ".py",
   "mimetype": "text/x-python",
   "name": "python",
   "nbconvert_exporter": "python",
   "pygments_lexer": "ipython3",
   "version": "3.9.7"
  }
 },
 "nbformat": 4,
 "nbformat_minor": 5
}
