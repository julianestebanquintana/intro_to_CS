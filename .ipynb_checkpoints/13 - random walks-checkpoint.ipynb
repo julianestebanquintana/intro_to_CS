{
 "cells": [
  {
   "cell_type": "code",
   "execution_count": 2,
   "id": "3b1130f7",
   "metadata": {},
   "outputs": [],
   "source": [
    "class Ubicacion(object):\n",
    "    \n",
    "    def __init__(self,x,y):\n",
    "        \"\"\"x y y son números tipo float\"\"\"\n",
    "        self.x = x\n",
    "        self.y = y\n",
    "    \n",
    "    def mover(self,deltaX,deltaY):\n",
    "        \"\"\"deltaX y deltaY son números tipo float\"\"\"\n",
    "        return Ubicacion(self.x + deltaX, self.y + deltaY)\n",
    "    \n",
    "    def getX(self):\n",
    "        return self.x\n",
    "    \n",
    "    def getY(self):\n",
    "        return self.y\n",
    "    \n",
    "    def distancia(self, otro):\n",
    "        ox = otro.x\n",
    "        oy = otro.y\n",
    "        xDist = self.x - ox\n",
    "        yDist = self.y - oy\n",
    "        return (xDist**2 + yDist**2)**0.5\n",
    "    \n",
    "    def __str__(self):\n",
    "        return '<' + str(self.x) + ', ' + str(self.y) + '>'"
   ]
  },
  {
   "cell_type": "code",
   "execution_count": 4,
   "id": "ee1b1eb9",
   "metadata": {},
   "outputs": [],
   "source": [
    "class Campo(object):\n",
    "    \n",
    "    def __init__(self):\n",
    "        self.borrachos = {}\n",
    "    \n",
    "    def agregarBorracho(self,borracho,loc):\n",
    "        if borracho in self.borrachos:\n",
    "            raise ValueError('Borracho duplicado')\n",
    "        else:\n",
    "            self.borrachos[borracho] = loc\n",
    "            \n",
    "    def moverBorracho(self,borracho):\n",
    "        if borracho not in self.borracho:\n",
    "            raise ValueError('Borracho no está en el campo')\n",
    "        xDist, yDist = borracho.darPaso()\n",
    "        ubicacionActual = self.borracho[borracho]\n",
    "        # usar método mover de Ubicacion para obtener una nueva ubicacion\n",
    "        self.borracho[borracho] = ubicacionActual.mover(xDist,yDist)\n",
    "    \n",
    "    def getLoc(self,borracho):\n",
    "        if borracho not in self.borrachos:\n",
    "            raise ValueError('Borracho no está en el campo')\n",
    "        return self.borracho[borracho]"
   ]
  },
  {
   "cell_type": "code",
   "execution_count": null,
   "id": "6608c145",
   "metadata": {},
   "outputs": [],
   "source": []
  }
 ],
 "metadata": {
  "kernelspec": {
   "display_name": "Python 3 (ipykernel)",
   "language": "python",
   "name": "python3"
  },
  "language_info": {
   "codemirror_mode": {
    "name": "ipython",
    "version": 3
   },
   "file_extension": ".py",
   "mimetype": "text/x-python",
   "name": "python",
   "nbconvert_exporter": "python",
   "pygments_lexer": "ipython3",
   "version": "3.9.7"
  }
 },
 "nbformat": 4,
 "nbformat_minor": 5
}
