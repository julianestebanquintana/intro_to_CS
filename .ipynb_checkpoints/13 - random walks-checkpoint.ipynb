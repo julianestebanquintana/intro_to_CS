{
 "cells": [
  {
   "cell_type": "code",
   "execution_count": 2,
   "id": "b6dc10b0",
   "metadata": {},
   "outputs": [],
   "source": [
    "class Ubicacion(object):\n",
    "    \n",
    "    def __init__(self,x,y):\n",
    "        \"\"\"x y y son números tipo float\"\"\"\n",
    "        self.x = x\n",
    "        self.y = y\n",
    "    \n",
    "    def mover(self,deltaX,deltaY):\n",
    "        \"\"\"deltaX y deltaY son números tipo float\"\"\"\n",
    "        return Ubicacion(self.x + deltaX, self.y + deltaY)\n",
    "    \n",
    "    def getX(self):\n",
    "        return self.x\n",
    "    \n",
    "    def getY(self):\n",
    "        return self.y\n",
    "    \n",
    "    def distancia(self, otro):\n",
    "        ox = otro.x\n",
    "        oy = otro.y\n",
    "        xDist = self.x - ox\n",
    "        yDist = self.y - oy\n",
    "        return (xDist**2 + yDist**2)**0.5\n",
    "    \n",
    "    def __str__(self):\n",
    "        return '<' + str(self.x) + ', ' + str(self.y) + '>'"
   ]
  },
  {
   "cell_type": "code",
   "execution_count": 4,
   "id": "324f2bdf",
   "metadata": {},
   "outputs": [],
   "source": [
    "class Campo(object):\n",
    "    \n",
    "    def __init__(self):\n",
    "        self.borrachos = {}\n",
    "    \n",
    "    def agregarBorracho(self,borracho,loc):\n",
    "        if borracho in self.borrachos:\n",
    "            raise ValueError('Borracho duplicado')\n",
    "        else:\n",
    "            self.borrachos[borracho] = loc\n",
    "            \n",
    "    def moverBorracho(self,borracho):\n",
    "        if borracho not in self.borracho:\n",
    "            raise ValueError('Borracho no está en el campo')\n",
    "        xDist, yDist = borracho.darPaso()\n",
    "        ubicacionActual = self.borracho[borracho]\n",
    "        # usar método mover de Ubicacion para obtener una nueva ubicacion\n",
    "        self.borracho[borracho] = ubicacionActual.mover(xDist,yDist)\n",
    "    \n",
    "    def getLoc(self,borracho):\n",
    "        if borracho not in self.borrachos:\n",
    "            raise ValueError('Borracho no está en el campo')\n",
    "        return self.borracho[borracho]"
   ]
  },
  {
   "cell_type": "code",
   "execution_count": 5,
   "id": "d97cda9f",
   "metadata": {},
   "outputs": [],
   "source": [
    "class Borracho(object):\n",
    "    \n",
    "    def __init__(self, nombre = None):\n",
    "        \"\"\"Asume que nombre es un string\"\"\"\n",
    "        self.nombre = nombre\n",
    "    \n",
    "    def __str__(self):\n",
    "        if self != None:\n",
    "            return self.name\n",
    "        return 'Anonimo'\n",
    "    \n",
    "class BorrachoUsual(Borracho):\n",
    "    \n",
    "    def darPaso(self):\n",
    "        opcionesPaso = [(0.0,1.0),(0.0,-1.0),(1.0,0.0),(-1.0,0.0)]\n",
    "        return random.choice(opcionesPaso)"
   ]
  },
  {
   "cell_type": "code",
   "execution_count": 6,
   "id": "ec8eccea",
   "metadata": {},
   "outputs": [],
   "source": [
    "def caminar(c,b,numeroPasos):\n",
    "    \"\"\"Asume: c es un campo, b es un borracho, número de pasos es un entero mayor o igual a 0.\n",
    "    Mueve al borracho b un numeroPasos, y retorna la diferencia entre la ubicación final y la ubicación\n",
    "    del principio de la caminata.\"\"\"\n",
    "    inicio = c.getLoc(d)\n",
    "    for paso in range(numeroPasos):\n",
    "        c.moverBorracho(b)\n",
    "    return inicio.distancia(c.getLoc(b))\n",
    "    "
   ]
  },
  {
   "cell_type": "code",
   "execution_count": 7,
   "id": "83093579",
   "metadata": {},
   "outputs": [],
   "source": [
    "def simularCaminata(numeroPasos,numeroIntentos,dClass):\n",
    "    \"\"\"Asume un numeroPasos que es un entero positivo, numeroIntentos que es entero positivo, y dClass\n",
    "    que es una subclase de Borracho.\n",
    "    Simula un numeroIntentos, cada intento de numeroPasos.\n",
    "    Retorna una lista de las distancias finales para cada intento.\"\"\"\n",
    "    Homer = dClass()\n",
    "    origen = Ubicacion(0.0,0.0)\n",
    "    distancias = []\n",
    "    for intento in range(numeroIntentos):\n",
    "        c = Campo()\n",
    "        c.agregarBorracho(Homer,origen)\n",
    "        distancias.append(caminar(c,Homer,numeroPasos))\n",
    "    return distancias"
   ]
  },
  {
   "cell_type": "code",
   "execution_count": 10,
   "id": "bd870032",
   "metadata": {},
   "outputs": [],
   "source": [
    "def pruebaBorracho(long_caminata,numeroIntentos,dClass):\n",
    "    \"\"\"Asume una longitud de caminata long_caminata como una secuencia de enteros positivo.\n",
    "    Un numeroIntentos enteros positivos. dClass es una subclase de Borracho.\n",
    "    Por cada número de pasos en long_caminata, corre simularCaminata con un numeroIntentos \n",
    "    e imprime los resultados.\"\"\"\n",
    "    for numPasos in long_caminata:\n",
    "        distancias = simularCaminata(numPasos,numeroIntentos,dClass)\n",
    "        print(dClass.__name__, 'caminata aleatoria de', numPasos, 'pasos')\n",
    "        print('promedio =', sum(distancias)/len(distancias), 'CV = pend')\n",
    "        print('Max =',max(distancias), 'Min =',min(distancias))"
   ]
  },
  {
   "cell_type": "code",
   "execution_count": null,
   "id": "287faf64",
   "metadata": {},
   "outputs": [],
   "source": []
  }
 ],
 "metadata": {
  "kernelspec": {
   "display_name": "Python 3 (ipykernel)",
   "language": "python",
   "name": "python3"
  },
  "language_info": {
   "codemirror_mode": {
    "name": "ipython",
    "version": 3
   },
   "file_extension": ".py",
   "mimetype": "text/x-python",
   "name": "python",
   "nbconvert_exporter": "python",
   "pygments_lexer": "ipython3",
   "version": "3.9.7"
  }
 },
 "nbformat": 4,
 "nbformat_minor": 5
}
