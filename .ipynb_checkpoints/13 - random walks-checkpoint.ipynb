{
 "cells": [
  {
   "cell_type": "code",
   "execution_count": 20,
   "id": "c1759120",
   "metadata": {},
   "outputs": [],
   "source": [
    "import random"
   ]
  },
  {
   "cell_type": "code",
   "execution_count": 2,
   "id": "dd12bffe",
   "metadata": {},
   "outputs": [],
   "source": [
    "class Ubicacion(object):\n",
    "    \n",
    "    def __init__(self,x,y):\n",
    "        \"\"\"x y y son números tipo float\"\"\"\n",
    "        self.x = x\n",
    "        self.y = y\n",
    "    \n",
    "    def mover(self,deltaX,deltaY):\n",
    "        \"\"\"deltaX y deltaY son números tipo float\"\"\"\n",
    "        return Ubicacion(self.x + deltaX, self.y + deltaY)\n",
    "    \n",
    "    def getX(self):\n",
    "        return self.x\n",
    "    \n",
    "    def getY(self):\n",
    "        return self.y\n",
    "    \n",
    "    def distancia(self, otro):\n",
    "        ox = otro.x\n",
    "        oy = otro.y\n",
    "        xDist = self.x - ox\n",
    "        yDist = self.y - oy\n",
    "        return (xDist**2 + yDist**2)**0.5\n",
    "    \n",
    "    def __str__(self):\n",
    "        return '<' + str(self.x) + ', ' + str(self.y) + '>'"
   ]
  },
  {
   "cell_type": "code",
   "execution_count": 22,
   "id": "d52ba582",
   "metadata": {},
   "outputs": [],
   "source": [
    "class Campo(object):\n",
    "    \n",
    "    def __init__(self):\n",
    "        self.borrachos = {}\n",
    "    \n",
    "    def agregarBorracho(self,borracho,loc):\n",
    "        if borracho in self.borrachos:\n",
    "            raise ValueError('Borracho duplicado')\n",
    "        else:\n",
    "            self.borrachos[borracho] = loc\n",
    "            \n",
    "    def moverBorracho(self,borracho):\n",
    "        if borracho not in self.borrachos:\n",
    "            raise ValueError('Borracho no está en el campo')\n",
    "        xDist, yDist = borracho.darPaso()\n",
    "        ubicacionActual = self.borrachos[borracho]\n",
    "        # usar método mover de Ubicacion para obtener una nueva ubicacion\n",
    "        self.borrachos[borracho] = ubicacionActual.mover(xDist,yDist)\n",
    "    \n",
    "    def getLoc(self,borracho):\n",
    "        if borracho not in self.borrachos:\n",
    "            raise ValueError('Borracho no está en el campo')\n",
    "        return self.borrachos[borracho]"
   ]
  },
  {
   "cell_type": "code",
   "execution_count": 5,
   "id": "e53727fd",
   "metadata": {},
   "outputs": [],
   "source": [
    "class Borracho(object):\n",
    "    \n",
    "    def __init__(self, nombre = None):\n",
    "        \"\"\"Asume que nombre es un string\"\"\"\n",
    "        self.nombre = nombre\n",
    "    \n",
    "    def __str__(self):\n",
    "        if self != None:\n",
    "            return self.name\n",
    "        return 'Anonimo'\n",
    "    \n",
    "class BorrachoUsual(Borracho):\n",
    "    \n",
    "    def darPaso(self):\n",
    "        opcionesPaso = [(0.0,1.0),(0.0,-1.0),(1.0,0.0),(-1.0,0.0)]\n",
    "        return random.choice(opcionesPaso)"
   ]
  },
  {
   "cell_type": "code",
   "execution_count": 12,
   "id": "34288415",
   "metadata": {},
   "outputs": [],
   "source": [
    "def caminar(c,b,numeroPasos):\n",
    "    \"\"\"Asume: c es un campo, b es un borracho, número de pasos es un entero mayor o igual a 0.\n",
    "    Mueve al borracho b un numeroPasos, y retorna la diferencia entre la ubicación final y la ubicación\n",
    "    del principio de la caminata.\"\"\"\n",
    "    inicio = c.getLoc(b)\n",
    "    for paso in range(numeroPasos):\n",
    "        c.moverBorracho(b)\n",
    "    return inicio.distancia(c.getLoc(b))\n",
    "    "
   ]
  },
  {
   "cell_type": "code",
   "execution_count": 7,
   "id": "d4824d05",
   "metadata": {},
   "outputs": [],
   "source": [
    "def simularCaminata(numeroPasos,numeroIntentos,dClass):\n",
    "    \"\"\"Asume un numeroPasos que es un entero positivo, numeroIntentos que es entero positivo, y dClass\n",
    "    que es una subclase de Borracho.\n",
    "    Simula un numeroIntentos, cada intento de numeroPasos.\n",
    "    Retorna una lista de las distancias finales para cada intento.\"\"\"\n",
    "    Homer = dClass()\n",
    "    origen = Ubicacion(0.0,0.0)\n",
    "    distancias = []\n",
    "    for intento in range(numeroIntentos):\n",
    "        c = Campo()\n",
    "        c.agregarBorracho(Homer,origen)\n",
    "        distancias.append(caminar(c,Homer,numeroPasos))\n",
    "    return distancias"
   ]
  },
  {
   "cell_type": "code",
   "execution_count": 10,
   "id": "dc9cd81a",
   "metadata": {},
   "outputs": [],
   "source": [
    "def pruebaBorracho(long_caminata,numeroIntentos,dClass):\n",
    "    \"\"\"Asume una longitud de caminata long_caminata como una secuencia de enteros positivo.\n",
    "    Un numeroIntentos enteros positivos. dClass es una subclase de Borracho.\n",
    "    Por cada número de pasos en long_caminata, corre simularCaminata con un numeroIntentos \n",
    "    e imprime los resultados.\"\"\"\n",
    "    for numPasos in long_caminata:\n",
    "        distancias = simularCaminata(numPasos,numeroIntentos,dClass)\n",
    "        print(dClass.__name__, 'caminata aleatoria de', numPasos, 'pasos')\n",
    "        print('promedio =', sum(distancias)/len(distancias), 'CV = pend')\n",
    "        print('Max =',max(distancias), 'Min =',min(distancias))"
   ]
  },
  {
   "cell_type": "code",
   "execution_count": 23,
   "id": "122ca652",
   "metadata": {},
   "outputs": [
    {
     "name": "stdout",
     "output_type": "stream",
     "text": [
      "BorrachoUsual caminata aleatoria de 10 pasos\n",
      "promedio = 3.165387959962385 CV = pend\n",
      "Max = 7.211102550927978 Min = 0.0\n",
      "BorrachoUsual caminata aleatoria de 100 pasos\n",
      "promedio = 9.031786903156279 CV = pend\n",
      "Max = 18.439088914585774 Min = 2.0\n",
      "BorrachoUsual caminata aleatoria de 1000 pasos\n",
      "promedio = 26.788195113903697 CV = pend\n",
      "Max = 92.66067126888301 Min = 1.4142135623730951\n",
      "BorrachoUsual caminata aleatoria de 10000 pasos\n",
      "promedio = 90.79773883392859 CV = pend\n",
      "Max = 217.375251581223 Min = 14.0\n"
     ]
    }
   ],
   "source": [
    "pruebaBorracho((10,100,1000,10000),100,BorrachoUsual)"
   ]
  },
  {
   "cell_type": "code",
   "execution_count": 24,
   "id": "1969c06c",
   "metadata": {},
   "outputs": [],
   "source": [
    "class BorrachoFrio(Borracho):\n",
    "    def darPaso(self):\n",
    "        opcionesPaso = [(0.0,1.0),(0.0,-2.0),(1.0,0.0),(-1.0,0.0)]\n",
    "        return random.choice(opcionesPaso)\n",
    "\n",
    "class BorrachoEO(Borracho):\n",
    "    def darPaso(self):\n",
    "        opcionesPaso = [(1.0,0.0),(-1.0,0.0)]\n",
    "        return random.choice(opcionesPaso)\n",
    "\n",
    "def simTodos(clasesBorrachos,long_caminata,numeroIntentos):\n",
    "    for dClass in clasesBorrachos:\n",
    "        pruebaBorracho(long_caminata,numeroIntentos,dClass)"
   ]
  },
  {
   "cell_type": "code",
   "execution_count": 25,
   "id": "e98357ec",
   "metadata": {},
   "outputs": [
    {
     "name": "stdout",
     "output_type": "stream",
     "text": [
      "BorrachoUsual caminata aleatoria de 100 pasos\n",
      "promedio = 12.343431217065666 CV = pend\n",
      "Max = 24.331050121192877 Min = 1.4142135623730951\n",
      "BorrachoUsual caminata aleatoria de 1000 pasos\n",
      "promedio = 35.59142127577627 CV = pend\n",
      "Max = 58.034472514187634 Min = 12.806248474865697\n",
      "BorrachoFrio caminata aleatoria de 100 pasos\n",
      "promedio = 34.68709750252687 CV = pend\n",
      "Max = 52.009614495783374 Min = 17.804493814764857\n",
      "BorrachoFrio caminata aleatoria de 1000 pasos\n",
      "promedio = 251.642471722576 CV = pend\n",
      "Max = 294.20571034566956 Min = 196.65197685250968\n",
      "BorrachoEO caminata aleatoria de 100 pasos\n",
      "promedio = 8.6 CV = pend\n",
      "Max = 24.0 Min = 2.0\n",
      "BorrachoEO caminata aleatoria de 1000 pasos\n",
      "promedio = 21.8 CV = pend\n",
      "Max = 72.0 Min = 8.0\n"
     ]
    }
   ],
   "source": [
    "simTodos((BorrachoUsual,BorrachoFrio,BorrachoEO),(100,1000),10)"
   ]
  },
  {
   "cell_type": "code",
   "execution_count": null,
   "id": "87a4d65f",
   "metadata": {},
   "outputs": [],
   "source": []
  }
 ],
 "metadata": {
  "kernelspec": {
   "display_name": "Python 3 (ipykernel)",
   "language": "python",
   "name": "python3"
  },
  "language_info": {
   "codemirror_mode": {
    "name": "ipython",
    "version": 3
   },
   "file_extension": ".py",
   "mimetype": "text/x-python",
   "name": "python",
   "nbconvert_exporter": "python",
   "pygments_lexer": "ipython3",
   "version": "3.9.7"
  }
 },
 "nbformat": 4,
 "nbformat_minor": 5
}
