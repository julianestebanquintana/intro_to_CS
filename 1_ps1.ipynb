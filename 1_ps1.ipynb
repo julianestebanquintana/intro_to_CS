{
 "cells": [
  {
   "cell_type": "markdown",
   "id": "10aa0604",
   "metadata": {},
   "source": [
    "# Problem set 1\n",
    "## Part A: House Hunting"
   ]
  },
  {
   "cell_type": "code",
   "execution_count": 1,
   "id": "d6ed23f7",
   "metadata": {},
   "outputs": [],
   "source": [
    "total_cost = 1000000.0\n",
    "portion_down_payment = 0.25\n",
    "current_savings = 0\n",
    "r = 0.04\n",
    "portion_saved = 0.1\n",
    "annual_salary = 80000.0"
   ]
  },
  {
   "cell_type": "markdown",
   "id": "0ec5ac26",
   "metadata": {},
   "source": [
    "Your program should ask the user to enter the following variables:\n",
    "1. The starting annual salary (annual_salary)\n",
    "2. The portion of salary to be saved (portion_saved)\n",
    "3. The cost of your dream home (total_cost)"
   ]
  },
  {
   "cell_type": "markdown",
   "id": "36fea5c2",
   "metadata": {},
   "source": [
    "Try different inputs and see how long it takes to save for a down payment.\n",
    "program print results in the format shown in the test cases below.  \n",
    "**Test Case 1**  \n",
    "Enter your annual salary: 120000  \n",
    "Enter the percent of your salary to save, as a decimal: .10  \n",
    "Enter the cost of your dream home: 1000000  \n",
    "Number of months: 183  \n",
    "**Test Case 2**\n",
    "Enter your annual salary: 80000  \n",
    "Enter the percent of your salary to save, as a decimal: .15  \n",
    "Enter the cost of your dream home: 500000  \n",
    "Number of months: 105  "
   ]
  },
  {
   "cell_type": "code",
   "execution_count": 3,
   "id": "5e2fd77d",
   "metadata": {},
   "outputs": [
    {
     "name": "stdout",
     "output_type": "stream",
     "text": [
      "374.99999999999994\n"
     ]
    }
   ],
   "source": [
    "down_payment = total_cost * 0.25\n",
    "monthly_salary = annual_salary / 12\n",
    "monthly_savings = monthly_salary * portion_saved\n",
    "guess = down_payment / monthly_savings\n",
    "print(guess)"
   ]
  },
  {
   "cell_type": "markdown",
   "id": "efc88250",
   "metadata": {},
   "source": [
    "## Part B: Saving, with a raise"
   ]
  },
  {
   "cell_type": "code",
   "execution_count": null,
   "id": "c4572616",
   "metadata": {},
   "outputs": [],
   "source": []
  },
  {
   "cell_type": "code",
   "execution_count": null,
   "id": "a806091f",
   "metadata": {},
   "outputs": [],
   "source": []
  },
  {
   "cell_type": "markdown",
   "id": "7f8d7095",
   "metadata": {},
   "source": [
    "## Part C: Finding the right amount to save away"
   ]
  },
  {
   "cell_type": "code",
   "execution_count": null,
   "id": "53f39747",
   "metadata": {},
   "outputs": [],
   "source": []
  },
  {
   "cell_type": "code",
   "execution_count": null,
   "id": "12bb8fc9",
   "metadata": {},
   "outputs": [],
   "source": []
  }
 ],
 "metadata": {
  "kernelspec": {
   "display_name": "Python 3 (ipykernel)",
   "language": "python",
   "name": "python3"
  },
  "language_info": {
   "codemirror_mode": {
    "name": "ipython",
    "version": 3
   },
   "file_extension": ".py",
   "mimetype": "text/x-python",
   "name": "python",
   "nbconvert_exporter": "python",
   "pygments_lexer": "ipython3",
   "version": "3.9.7"
  }
 },
 "nbformat": 4,
 "nbformat_minor": 5
}
