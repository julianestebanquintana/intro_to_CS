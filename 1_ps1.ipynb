{
 "cells": [
  {
   "cell_type": "markdown",
   "id": "d1bd9837",
   "metadata": {},
   "source": [
    "# Problem set 1\n",
    "## Part A: House Hunting"
   ]
  },
  {
   "cell_type": "markdown",
   "id": "0ffd7a7b",
   "metadata": {},
   "source": [
    "Your program should ask the user to enter the following variables:\n",
    "1. The starting annual salary (annual_salary)\n",
    "2. The portion of salary to be saved (portion_saved)\n",
    "3. The cost of your dream home (total_cost)"
   ]
  },
  {
   "cell_type": "markdown",
   "id": "05f178cd",
   "metadata": {},
   "source": [
    "Try different inputs and see how long it takes to save for a down payment.\n",
    "program print results in the format shown in the test cases below.  \n",
    "**Test Case 1**  \n",
    "Enter your annual salary: 120000  \n",
    "Enter the percent of your salary to save, as a decimal: .10  \n",
    "Enter the cost of your dream home: 1000000  \n",
    "Number of months: 183  \n",
    "**Test Case 2**  \n",
    "Enter your annual salary: 80000  \n",
    "Enter the percent of your salary to save, as a decimal: .15  \n",
    "Enter the cost of your dream home: 500000  \n",
    "Number of months: 105  "
   ]
  },
  {
   "cell_type": "code",
   "execution_count": 8,
   "id": "a88a8a5d",
   "metadata": {},
   "outputs": [],
   "source": [
    "# total_cost = 1000000.0\n",
    "# portion_down_payment = 0.25\n",
    "# current_savings = 0\n",
    "# r = 0.04\n",
    "# portion_saved = 0.1\n",
    "# annual_salary = 80000.0"
   ]
  },
  {
   "cell_type": "code",
   "execution_count": 9,
   "id": "2c37a276",
   "metadata": {},
   "outputs": [],
   "source": [
    "# down_payment = total_cost * 0.25\n",
    "# monthly_salary = annual_salary / 12\n",
    "# monthly_savings = monthly_salary * portion_saved\n",
    "# guess = down_payment / monthly_savings\n",
    "# print(guess)"
   ]
  },
  {
   "cell_type": "code",
   "execution_count": 10,
   "id": "84f80f6a",
   "metadata": {},
   "outputs": [
    {
     "name": "stdout",
     "output_type": "stream",
     "text": [
      "243\n"
     ]
    }
   ],
   "source": [
    "'''for month in range(int(guess)):\n",
    "    current_savings = current_savings + monthly_savings + (current_savings*(r/12))\n",
    "    if current_savings >= down_payment:\n",
    "        print(month)\n",
    "        break\n",
    "'''"
   ]
  },
  {
   "cell_type": "code",
   "execution_count": 3,
   "id": "b0c05e33",
   "metadata": {},
   "outputs": [
    {
     "name": "stdout",
     "output_type": "stream",
     "text": [
      "Enter your annual salary: 80000\n",
      "Enter the percent of your salary to save, as a decimal: 0.15\n",
      "Enter the cost of your dream home: 500000\n",
      "104\n"
     ]
    }
   ],
   "source": [
    "# variables\n",
    "portion_down_payment = 0.25\n",
    "current_savings = 0\n",
    "r = 0.04\n",
    "\n",
    "# obtener variables faltantes\n",
    "annual_salary = float(input('Enter your annual salary: '))\n",
    "portion_saved = float(input('Enter the percent of your salary to save, as a decimal: '))\n",
    "total_cost = float(input('Enter the cost of your dream home: '))\n",
    "\n",
    "# cálculos\n",
    "down_payment = total_cost * 0.25\n",
    "monthly_salary = annual_salary / 12\n",
    "monthly_savings = monthly_salary * portion_saved\n",
    "guess = down_payment / monthly_savings\n",
    "\n",
    "for month in range(int(guess)):\n",
    "    current_savings = current_savings + monthly_savings + (current_savings*(r/12))\n",
    "    # print('mes',month,'ahorros',current_savings)\n",
    "    if current_savings >= down_payment:\n",
    "        print('Number of months: ',month)\n",
    "        break"
   ]
  },
  {
   "cell_type": "markdown",
   "id": "703a2bfb",
   "metadata": {},
   "source": [
    "## Part B: Saving, with a raise"
   ]
  },
  {
   "cell_type": "markdown",
   "id": "873c9235",
   "metadata": {},
   "source": [
    "In ps1b.py, copy your solution to Part A (as we are going to reuse much of that machinery). Modify your program to include the following:\n",
    "1. Have the user input a semi-annual salary raise semi_annual_raise (as a decimal percentage) \n",
    "1. After the 6th month, increase your salary by that percentage. Do the same after the 12th month, the 18th month, and so on."
   ]
  },
  {
   "cell_type": "code",
   "execution_count": 6,
   "id": "718aa8a7",
   "metadata": {},
   "outputs": [
    {
     "name": "stdout",
     "output_type": "stream",
     "text": [
      "Enter your annual salary: 80000\n",
      "Enter the percent of your salary to save, as a decimal: 0.1\n",
      "Enter the cost of your dream home: 1000000\n",
      "Enter the semi annual raise, as a decimal: 0.02\n",
      "Number of months:  243\n"
     ]
    }
   ],
   "source": [
    "# variables\n",
    "portion_down_payment = 0.25\n",
    "current_savings = 0\n",
    "r = 0.04\n",
    "\n",
    "# obtener variables faltantes\n",
    "annual_salary = float(input('Enter your annual salary: '))\n",
    "portion_saved = float(input('Enter the percent of your salary to save, as a decimal: '))\n",
    "total_cost = float(input('Enter the cost of your dream home: '))\n",
    "semi_annual_raise = float(input('Enter the semi annual raise, as a decimal: '))\n",
    "\n",
    "# cálculos\n",
    "down_payment = total_cost * 0.25\n",
    "monthly_salary = annual_salary / 12\n",
    "monthly_savings = monthly_salary * portion_saved\n",
    "guess = down_payment / monthly_savings\n",
    "\n",
    "for month in range(int(guess)):\n",
    "    current_savings = current_savings + monthly_savings + (current_savings*(r/12))\n",
    "    # print('mes',month,'ahorros',current_savings, 'monthly salary', monthly_salary)\n",
    "    if month % 6 == 0:\n",
    "        monthly_salary = monthly_salary * (1+semi_annual_raise)\n",
    "    if current_savings >= down_payment:\n",
    "        print('Number of months: ',month)\n",
    "        break"
   ]
  },
  {
   "cell_type": "markdown",
   "id": "8c8c5fd1",
   "metadata": {},
   "source": [
    "## Part C: Finding the right amount to save away"
   ]
  },
  {
   "cell_type": "markdown",
   "id": "b1e1d144",
   "metadata": {},
   "source": [
    "Try to find the best rate of savings to achieve a down payment on a 1M house in 36 months. Since hitting this exactly is a challenge, we simply want your savings to be within 100 of the required down payment. Write a program to calculate the best savings rate, as a function of your starting salary. You should use bisection search to help you do this efficiently. You should keep track of the number of steps it takes your bisections search to finish.  \n",
    "To simplify things, assume:\n",
    "1. Your semi annual raise is .07 (7%)\n",
    "1. Your investments have an annual return of 0.04 (4%)\n",
    "1. The down payment is 0.25 (25%) of the cost of the house\n",
    "1. The cost of the house that you are saving for is 1M."
   ]
  },
  {
   "cell_type": "markdown",
   "id": "f92d6784",
   "metadata": {},
   "source": [
    "### Output\n",
    "Enter the starting salary: 150000  \n",
    "Best savings rate: 0.4411  \n",
    "Steps in bisection search: 12  "
   ]
  },
  {
   "cell_type": "code",
   "execution_count": null,
   "id": "c3a23f2d",
   "metadata": {},
   "outputs": [],
   "source": [
    "# variables\n",
    "portion_down_payment = 0.25\n",
    "current_savings = 0\n",
    "r = 0.04\n",
    "semi_annual_raise = 0.07\n",
    "total_cost = 1000000\n",
    "months = 36\n",
    "tolerance = 100\n",
    "\n",
    "# obtener variables faltantes\n",
    "annual_salary = float(input('Enter the starting salary: '))\n",
    "portion_saved = float(input('Enter the percent of your salary to save, as a decimal: '))\n",
    "\n",
    "# cálculos\n",
    "down_payment = total_cost * 0.25\n",
    "monthly_salary = annual_salary / 12\n",
    "monthly_savings = monthly_salary * portion_saved\n",
    "guess = down_payment / monthly_savings\n",
    "\n",
    "for month in range(int(guess)):\n",
    "    current_savings = current_savings + monthly_savings + (current_savings*(r/12))\n",
    "    # print('mes',month,'ahorros',current_savings, 'monthly salary', monthly_salary)\n",
    "    if month % 6 == 0:\n",
    "        monthly_salary = monthly_salary * (1+semi_annual_raise)\n",
    "    if current_savings >= down_payment:\n",
    "        print('Number of months: ',month)\n",
    "        break"
   ]
  }
 ],
 "metadata": {
  "kernelspec": {
   "display_name": "Python 3 (ipykernel)",
   "language": "python",
   "name": "python3"
  },
  "language_info": {
   "codemirror_mode": {
    "name": "ipython",
    "version": 3
   },
   "file_extension": ".py",
   "mimetype": "text/x-python",
   "name": "python",
   "nbconvert_exporter": "python",
   "pygments_lexer": "ipython3",
   "version": "3.9.7"
  }
 },
 "nbformat": 4,
 "nbformat_minor": 5
}
