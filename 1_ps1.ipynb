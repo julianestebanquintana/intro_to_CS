{
 "cells": [
  {
   "cell_type": "markdown",
   "id": "d70193f4",
   "metadata": {},
   "source": [
    "# Problem set 1\n",
    "## Part A: House Hunting"
   ]
  },
  {
   "cell_type": "code",
   "execution_count": null,
   "id": "d6b154a3",
   "metadata": {},
   "outputs": [],
   "source": []
  },
  {
   "cell_type": "code",
   "execution_count": null,
   "id": "6693c433",
   "metadata": {},
   "outputs": [],
   "source": []
  },
  {
   "cell_type": "markdown",
   "id": "1a6a5da3",
   "metadata": {},
   "source": [
    "## Part B: Saving, with a raise"
   ]
  },
  {
   "cell_type": "code",
   "execution_count": null,
   "id": "6283304c",
   "metadata": {},
   "outputs": [],
   "source": []
  },
  {
   "cell_type": "code",
   "execution_count": null,
   "id": "971b6cb5",
   "metadata": {},
   "outputs": [],
   "source": []
  },
  {
   "cell_type": "markdown",
   "id": "fecb1b56",
   "metadata": {},
   "source": [
    "## Part C: Finding the right amount to save away"
   ]
  },
  {
   "cell_type": "code",
   "execution_count": null,
   "id": "76da0c2a",
   "metadata": {},
   "outputs": [],
   "source": []
  },
  {
   "cell_type": "code",
   "execution_count": null,
   "id": "df7b6a55",
   "metadata": {},
   "outputs": [],
   "source": []
  }
 ],
 "metadata": {
  "kernelspec": {
   "display_name": "Python 3 (ipykernel)",
   "language": "python",
   "name": "python3"
  },
  "language_info": {
   "codemirror_mode": {
    "name": "ipython",
    "version": 3
   },
   "file_extension": ".py",
   "mimetype": "text/x-python",
   "name": "python",
   "nbconvert_exporter": "python",
   "pygments_lexer": "ipython3",
   "version": "3.9.7"
  }
 },
 "nbformat": 4,
 "nbformat_minor": 5
}
