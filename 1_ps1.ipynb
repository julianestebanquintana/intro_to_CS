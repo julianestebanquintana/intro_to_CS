{
 "cells": [
  {
   "cell_type": "markdown",
   "id": "d1bd9837",
   "metadata": {},
   "source": [
    "# Problem set 1\n",
    "## Part A: House Hunting"
   ]
  },
  {
   "cell_type": "markdown",
   "id": "0ffd7a7b",
   "metadata": {},
   "source": [
    "Your program should ask the user to enter the following variables:\n",
    "1. The starting annual salary (annual_salary)\n",
    "2. The portion of salary to be saved (portion_saved)\n",
    "3. The cost of your dream home (total_cost)"
   ]
  },
  {
   "cell_type": "markdown",
   "id": "05f178cd",
   "metadata": {},
   "source": [
    "Try different inputs and see how long it takes to save for a down payment.\n",
    "program print results in the format shown in the test cases below.  \n",
    "**Test Case 1**  \n",
    "Enter your annual salary: 120000  \n",
    "Enter the percent of your salary to save, as a decimal: .10  \n",
    "Enter the cost of your dream home: 1000000  \n",
    "Number of months: 183  \n",
    "**Test Case 2**  \n",
    "Enter your annual salary: 80000  \n",
    "Enter the percent of your salary to save, as a decimal: .15  \n",
    "Enter the cost of your dream home: 500000  \n",
    "Number of months: 105  "
   ]
  },
  {
   "cell_type": "code",
   "execution_count": 8,
   "id": "a88a8a5d",
   "metadata": {},
   "outputs": [],
   "source": [
    "# total_cost = 1000000.0\n",
    "# portion_down_payment = 0.25\n",
    "# current_savings = 0\n",
    "# r = 0.04\n",
    "# portion_saved = 0.1\n",
    "# annual_salary = 80000.0"
   ]
  },
  {
   "cell_type": "code",
   "execution_count": 9,
   "id": "2c37a276",
   "metadata": {},
   "outputs": [],
   "source": [
    "# down_payment = total_cost * 0.25\n",
    "# monthly_salary = annual_salary / 12\n",
    "# monthly_savings = monthly_salary * portion_saved\n",
    "# guess = down_payment / monthly_savings\n",
    "# print(guess)"
   ]
  },
  {
   "cell_type": "code",
   "execution_count": 10,
   "id": "84f80f6a",
   "metadata": {},
   "outputs": [
    {
     "name": "stdout",
     "output_type": "stream",
     "text": [
      "243\n"
     ]
    }
   ],
   "source": [
    "'''for month in range(int(guess)):\n",
    "    current_savings = current_savings + monthly_savings + (current_savings*(r/12))\n",
    "    if current_savings >= down_payment:\n",
    "        print(month)\n",
    "        break\n",
    "'''"
   ]
  },
  {
   "cell_type": "code",
   "execution_count": 3,
   "id": "b0c05e33",
   "metadata": {},
   "outputs": [
    {
     "name": "stdout",
     "output_type": "stream",
     "text": [
      "Enter your annual salary: 80000\n",
      "Enter the percent of your salary to save, as a decimal: 0.15\n",
      "Enter the cost of your dream home: 500000\n",
      "104\n"
     ]
    }
   ],
   "source": [
    "# variables\n",
    "portion_down_payment = 0.25\n",
    "current_savings = 0\n",
    "r = 0.04\n",
    "\n",
    "# obtener variables faltantes\n",
    "annual_salary = float(input('Enter your annual salary: '))\n",
    "portion_saved = float(input('Enter the percent of your salary to save, as a decimal: '))\n",
    "total_cost = float(input('Enter the cost of your dream home: '))\n",
    "\n",
    "# cálculos\n",
    "down_payment = total_cost * 0.25\n",
    "monthly_salary = annual_salary / 12\n",
    "monthly_savings = monthly_salary * portion_saved\n",
    "guess = down_payment / monthly_savings\n",
    "\n",
    "for month in range(int(guess)):\n",
    "    current_savings = current_savings + monthly_savings + (current_savings*(r/12))\n",
    "    # print('mes',month,'ahorros',current_savings)\n",
    "    if current_savings >= down_payment:\n",
    "        print('Number of months: ',month)\n",
    "        break"
   ]
  },
  {
   "cell_type": "markdown",
   "id": "703a2bfb",
   "metadata": {},
   "source": [
    "## Part B: Saving, with a raise"
   ]
  },
  {
   "cell_type": "code",
   "execution_count": null,
   "id": "cc6e716c",
   "metadata": {},
   "outputs": [],
   "source": []
  },
  {
   "cell_type": "code",
   "execution_count": null,
   "id": "718aa8a7",
   "metadata": {},
   "outputs": [],
   "source": []
  },
  {
   "cell_type": "markdown",
   "id": "8c8c5fd1",
   "metadata": {},
   "source": [
    "## Part C: Finding the right amount to save away"
   ]
  },
  {
   "cell_type": "code",
   "execution_count": null,
   "id": "ebc1d48b",
   "metadata": {},
   "outputs": [],
   "source": []
  },
  {
   "cell_type": "code",
   "execution_count": null,
   "id": "6e22fa73",
   "metadata": {},
   "outputs": [],
   "source": []
  }
 ],
 "metadata": {
  "kernelspec": {
   "display_name": "Python 3 (ipykernel)",
   "language": "python",
   "name": "python3"
  },
  "language_info": {
   "codemirror_mode": {
    "name": "ipython",
    "version": 3
   },
   "file_extension": ".py",
   "mimetype": "text/x-python",
   "name": "python",
   "nbconvert_exporter": "python",
   "pygments_lexer": "ipython3",
   "version": "3.9.7"
  }
 },
 "nbformat": 4,
 "nbformat_minor": 5
}
