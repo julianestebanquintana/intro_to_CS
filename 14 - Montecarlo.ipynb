{
 "cells": [
  {
   "cell_type": "code",
   "execution_count": 1,
   "id": "4f23c1e8",
   "metadata": {},
   "outputs": [],
   "source": [
    "import random"
   ]
  },
  {
   "cell_type": "code",
   "execution_count": 2,
   "id": "7e2e9df7",
   "metadata": {},
   "outputs": [],
   "source": [
    "def rollDie():\n",
    "    return random.choice([1,2,3,4,5,6])"
   ]
  },
  {
   "cell_type": "code",
   "execution_count": 3,
   "id": "c3b6a448",
   "metadata": {},
   "outputs": [],
   "source": [
    "def checkPascal(numTrials):\n",
    "    \"\"\"Asume numTrials un entero positivo.\n",
    "    Imprime un estimado de la probabilidad de ganar.\"\"\"\n",
    "    numWins = 0.0\n",
    "    for i in range(numTrials):\n",
    "        for j in range(24):\n",
    "            d1 = rollDie()\n",
    "            d2 = rollDie()\n",
    "            if d1 == 6 and d2 == 6:\n",
    "                numWins += 1\n",
    "                break\n",
    "    print('Probabilidad de ganar:', numWins/numTrials)"
   ]
  },
  {
   "cell_type": "code",
   "execution_count": 4,
   "id": "d8e4b42e",
   "metadata": {},
   "outputs": [
    {
     "name": "stdout",
     "output_type": "stream",
     "text": [
      "Probabilidad de ganar: 0.491228\n"
     ]
    }
   ],
   "source": [
    "checkPascal(1000000)"
   ]
  },
  {
   "cell_type": "markdown",
   "id": "bc196775",
   "metadata": {},
   "source": [
    "Calcular pi"
   ]
  },
  {
   "cell_type": "code",
   "execution_count": 7,
   "id": "a10e6a0b",
   "metadata": {},
   "outputs": [],
   "source": [
    "def throwNeedles(numNeedles):\n",
    "    inCircle = 0\n",
    "    for Needles in range(1,numNeedles + 1):\n",
    "        x = random.random()\n",
    "        y = random.random()\n",
    "        if (x*x + y*y)**0.5 <= 1.0:\n",
    "            inCircle += 1\n",
    "    return 4*(inCircle/float(numNeedles))\n",
    "\n",
    "\n",
    "def stdDev(x):\n",
    "    \"\"\"Asume que x es una lista de números.\n",
    "        Retorna la desviación estándar de X\"\"\"\n",
    "    promedio = float(sum(x))/len(x)\n",
    "    tot = 0.0\n",
    "    for numero in x:\n",
    "        tot += (numero-promedio)**2\n",
    "    return (tot/len(x))**0.5 \n",
    "\n",
    "\n",
    "def getEst(numNeedles,numTrials):\n",
    "    estimates = []\n",
    "    for t in range(numTrials):\n",
    "        piGuess = throwNeedles(numNeedles)\n",
    "        estimates.append(piGuess)\n",
    "    sDev = stdDev(estimates)\n",
    "    curEst = sum(estimates)/len(estimates)\n",
    "    print('Est. =', str(round(curEst, 5)), 'Desv. Estand. =', str(round(sDev, 5)))\n",
    "    print('Agujas =', str(numNeedles))\n",
    "    return (curEst,sDev)\n",
    "\n",
    "\n",
    "def estPi(precision,numTrials):\n",
    "    numNeedles = 1000\n",
    "    sDev = precision\n",
    "    while sDev >= precision/2.0:\n",
    "        curEst,sDev = getEst(numNeedles,numTrials)\n",
    "        numNeedles *= 2\n",
    "    return curEst"
   ]
  },
  {
   "cell_type": "code",
   "execution_count": 8,
   "id": "7b9506ac",
   "metadata": {},
   "outputs": [
    {
     "name": "stdout",
     "output_type": "stream",
     "text": [
      "Est. = 3.13104 Desv. Estand. = 0.05769\n",
      "Agujas = 1000\n",
      "Est. = 3.14284 Desv. Estand. = 0.03551\n",
      "Agujas = 2000\n",
      "Est. = 3.14525 Desv. Estand. = 0.02473\n",
      "Agujas = 4000\n",
      "Est. = 3.14201 Desv. Estand. = 0.01687\n",
      "Agujas = 8000\n",
      "Est. = 3.14113 Desv. Estand. = 0.01279\n",
      "Agujas = 16000\n",
      "Est. = 3.14129 Desv. Estand. = 0.00885\n",
      "Agujas = 32000\n",
      "Est. = 3.14097 Desv. Estand. = 0.00612\n",
      "Agujas = 64000\n",
      "Est. = 3.14219 Desv. Estand. = 0.0042\n",
      "Agujas = 128000\n"
     ]
    },
    {
     "data": {
      "text/plain": [
       "3.1421856249999984"
      ]
     },
     "execution_count": 8,
     "metadata": {},
     "output_type": "execute_result"
    }
   ],
   "source": [
    "estPi(0.01,100)"
   ]
  },
  {
   "cell_type": "code",
   "execution_count": null,
   "id": "366fb611",
   "metadata": {},
   "outputs": [],
   "source": []
  }
 ],
 "metadata": {
  "kernelspec": {
   "display_name": "Python 3 (ipykernel)",
   "language": "python",
   "name": "python3"
  },
  "language_info": {
   "codemirror_mode": {
    "name": "ipython",
    "version": 3
   },
   "file_extension": ".py",
   "mimetype": "text/x-python",
   "name": "python",
   "nbconvert_exporter": "python",
   "pygments_lexer": "ipython3",
   "version": "3.9.7"
  }
 },
 "nbformat": 4,
 "nbformat_minor": 5
}
