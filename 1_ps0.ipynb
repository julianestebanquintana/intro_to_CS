{
 "cells": [
  {
   "cell_type": "markdown",
   "id": "a9f69548",
   "metadata": {},
   "source": [
    "# Problem set 0\n",
    "## Instrucciones\n",
    "\n",
    "Write a program that does the following in order:\n",
    "1. Asks the user to enter a number “x” \n",
    "1. Asks the user to enter a number “y”\n",
    "1. Prints out number “x”, raised to the power “y”. \n",
    "1. Prints out the log (base 2) of “x”."
   ]
  },
  {
   "cell_type": "code",
   "execution_count": 3,
   "id": "d03a9039",
   "metadata": {},
   "outputs": [
    {
     "name": "stdout",
     "output_type": "stream",
     "text": [
      "Ingrese un número entero 4\n",
      "Ingrese otro número entero 5\n",
      "x^y es 1024\n",
      "el logaritmo base 2 de x es 2.0\n"
     ]
    }
   ],
   "source": [
    "import numpy as np\n",
    "x = input(\"Ingrese un número entero \")\n",
    "y = input(\"Ingrese otro número entero \")\n",
    "x = int(x)\n",
    "y = int(y)\n",
    "print(\"x^y es\",x**y)\n",
    "print(\"el logaritmo base 2 de x es\", np.log2(x))"
   ]
  },
  {
   "cell_type": "code",
   "execution_count": null,
   "id": "dab63ec5",
   "metadata": {},
   "outputs": [],
   "source": []
  }
 ],
 "metadata": {
  "kernelspec": {
   "display_name": "Python 3 (ipykernel)",
   "language": "python",
   "name": "python3"
  },
  "language_info": {
   "codemirror_mode": {
    "name": "ipython",
    "version": 3
   },
   "file_extension": ".py",
   "mimetype": "text/x-python",
   "name": "python",
   "nbconvert_exporter": "python",
   "pygments_lexer": "ipython3",
   "version": "3.9.7"
  }
 },
 "nbformat": 4,
 "nbformat_minor": 5
}
